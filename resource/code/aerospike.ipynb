{
 "cells": [
  {
   "cell_type": "code",
   "execution_count": 2,
   "metadata": {},
   "outputs": [
    {
     "name": "stdout",
     "output_type": "stream",
     "text": [
      "Collecting aerospike==4.0.0\n",
      "  Downloading aerospike-4.0.0-cp38-cp38-manylinux2010_x86_64.whl (4.0 MB)\n",
      "\u001b[K     |████████████████████████████████| 4.0 MB 2.5 MB/s eta 0:00:01\n",
      "\u001b[?25hInstalling collected packages: aerospike\n",
      "Successfully installed aerospike-4.0.0\n"
     ]
    }
   ],
   "source": [
    "# !pip install aerospike==4.0.0"
   ]
  },
  {
   "cell_type": "code",
   "execution_count": null,
   "metadata": {},
   "outputs": [],
   "source": [
    "# docker run -d -p 3000-3002:3000-3002 aerospike:ce-5.3.0.16"
   ]
  },
  {
   "cell_type": "code",
   "execution_count": 20,
   "metadata": {},
   "outputs": [],
   "source": [
    "import aerospike\n",
    "\n",
    "write_policy = {\"key\": aerospike.POLICY_KEY_SEND}\n",
    "policies = {\"write\": write_policy, \"total_timeout\": 3000}\n",
    "# Thiết lập kết nối\n",
    "config = {\n",
    "    'hosts': [('localhost', 3000)],  # Điền thông tin kết nối đến máy chủ Aerospike của bạn\n",
    "    # \"policies\": policies\n",
    "}\n",
    "\n",
    "client = aerospike.client(config).connect()\n",
    "\n"
   ]
  },
  {
   "cell_type": "code",
   "execution_count": 4,
   "metadata": {},
   "outputs": [],
   "source": [
    "namespace = \"test\"\n",
    "set = \"long\"\n",
    "ttl = 120 # ttl in s"
   ]
  },
  {
   "cell_type": "code",
   "execution_count": 22,
   "metadata": {},
   "outputs": [],
   "source": [
    "def put(key, value):\n",
    "    key_ = (namespace, set, str(key))\n",
    "    try:\n",
    "        # client.put(key_, value, meta={\"ttl\": ttl}, policy= policies)  # policies keysend ở đây k ăn (dẫn chứng là ở con userprofile k hiện )\n",
    "        client.put(key_, value, meta={\"ttl\": ttl})\n",
    "    except Exception as e:\n",
    "        print(\"Key error \", key)\n",
    "        print(\"Value error \", e)"
   ]
  },
  {
   "cell_type": "code",
   "execution_count": 23,
   "metadata": {},
   "outputs": [],
   "source": [
    "data = {\"name\":\"long\"}\n",
    "\n",
    "put(\"12345\", data)"
   ]
  },
  {
   "cell_type": "code",
   "execution_count": 2,
   "metadata": {},
   "outputs": [],
   "source": [
    "def get(key):\n",
    "        key = (namespace, set, key)\n",
    "        try:\n",
    "            (key, metadata, record) = client.get(key)\n",
    "\n",
    "        except Exception as e: \n",
    "            print(\"read error \", e)\n",
    "            \n",
    "        return record\n",
    "\n",
    "# key: ns, set, key (send_key thi moi thay), digest -bytearray (muc dich la bam cai key ra cho bang nhau)\n",
    "# metadata: ttl (moi 1 lan get set dau capj nhat so nay) , gen(thay doi bn lan)\n",
    "# record: dict {\"bin\":\"val\"}\n",
    "\n",
    "# vi dụ \n",
    "# ('test', 'long', None, bytearray(b'\\xd9\\xf9]`\\x18\\x12\\x0eh\\xec\\x02\\xcc\\x19\\x80\\x94C,\\x9f\\x8e\\x05\\xa5'))\n",
    "# {'ttl': 116, 'gen': 1}\n",
    "# {'name': 'long'}"
   ]
  },
  {
   "cell_type": "code",
   "execution_count": 10,
   "metadata": {},
   "outputs": [
    {
     "name": "stdout",
     "output_type": "stream",
     "text": [
      "('test', 'long', None, bytearray(b'\\xd9\\xf9]`\\x18\\x12\\x0eh\\xec\\x02\\xcc\\x19\\x80\\x94C,\\x9f\\x8e\\x05\\xa5'))\n",
      "{'ttl': 116, 'gen': 1}\n",
      "{'name': 'long'}\n"
     ]
    },
    {
     "data": {
      "text/plain": [
       "{'name': 'long'}"
      ]
     },
     "execution_count": 10,
     "metadata": {},
     "output_type": "execute_result"
    }
   ],
   "source": [
    "get(\"12345\")"
   ]
  },
  {
   "cell_type": "code",
   "execution_count": 16,
   "metadata": {},
   "outputs": [],
   "source": [
    "def delete(key):\n",
    "        \"\"\"\n",
    "        Delete row by key.\n",
    "        \"\"\"\n",
    "        key = (namespace, set, key)\n",
    "        try:\n",
    "            client.remove(key)\n",
    "            print(\"Delete successfully\")\n",
    "        #             LOGGER.info(\"Successful delete!\")\n",
    "        except Exception as e:\n",
    "            print(\"Error: {}\".format(e))"
   ]
  },
  {
   "cell_type": "code",
   "execution_count": 21,
   "metadata": {},
   "outputs": [
    {
     "name": "stdout",
     "output_type": "stream",
     "text": [
      "Delete successfully\n"
     ]
    }
   ],
   "source": [
    "delete(\"12345\")"
   ]
  },
  {
   "cell_type": "code",
   "execution_count": null,
   "metadata": {},
   "outputs": [],
   "source": [
    "scan = client.scan(namespace, set)\n",
    "\n",
    "b= []\n",
    "def process_record(a):\n",
    "    b.append(a) \n",
    "    \n",
    "scan_opts = {\"concurrent\": True, \"nobins\": True, \"percent\":1}  # chu y cai percent này, nếu k quét set lớn sẽ treo client\n",
    "\n",
    "scan.foreach(process_record, options=scan_opts)"
   ]
  }
 ],
 "metadata": {
  "kernelspec": {
   "display_name": ".venv",
   "language": "python",
   "name": "python3"
  },
  "language_info": {
   "codemirror_mode": {
    "name": "ipython",
    "version": 3
   },
   "file_extension": ".py",
   "mimetype": "text/x-python",
   "name": "python",
   "nbconvert_exporter": "python",
   "pygments_lexer": "ipython3",
   "version": "3.8.10"
  }
 },
 "nbformat": 4,
 "nbformat_minor": 2
}
